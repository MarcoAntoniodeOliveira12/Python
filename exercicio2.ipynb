{
  "nbformat": 4,
  "nbformat_minor": 0,
  "metadata": {
    "colab": {
      "provenance": [],
      "authorship_tag": "ABX9TyOc+yUWP/ZcxChtMsUhgSBi",
      "include_colab_link": true
    },
    "kernelspec": {
      "name": "python3",
      "display_name": "Python 3"
    },
    "language_info": {
      "name": "python"
    }
  },
  "cells": [
    {
      "cell_type": "markdown",
      "metadata": {
        "id": "view-in-github",
        "colab_type": "text"
      },
      "source": [
        "<a href=\"https://colab.research.google.com/github/MarcoAntoniodeOliveira12/Python/blob/main/exercicio2.ipynb\" target=\"_parent\"><img src=\"https://colab.research.google.com/assets/colab-badge.svg\" alt=\"Open In Colab\"/></a>"
      ]
    },
    {
      "cell_type": "markdown",
      "source": [
        "Faça uma aplicação PYTHON que;\n",
        "Contenha laços de repetição,\n",
        "Estrutura condicional,\n",
        "Função,\n",
        "Tratamento de exceção."
      ],
      "metadata": {
        "id": "a4XJbF5R1O0z"
      }
    },
    {
      "cell_type": "code",
      "execution_count": 20,
      "metadata": {
        "colab": {
          "base_uri": "https://localhost:8080/"
        },
        "id": "Lmy5tzuS0n8w",
        "outputId": "c0f3c98f-bf27-4d1e-cf2a-8d6b519b8223"
      },
      "outputs": [
        {
          "output_type": "stream",
          "name": "stdout",
          "text": [
            "Escolha: Pedra, Papel ou Tesoura ou sair para finalizar o jogo: papel\n",
            "Você papel, o robo pedra.A verdadeira vitória é os amigos que fazemos pelo caminho\n",
            "\n",
            "Escolha: Pedra, Papel ou Tesoura ou sair para finalizar o jogo: papel\n",
            "Você papel, o robo papel.Se nunca celebrou um empate como tendo sido uma grande vitória, você nunca passou por um desafio de verdade.\n",
            "\n",
            "Escolha: Pedra, Papel ou Tesoura ou sair para finalizar o jogo: pedra\n",
            "Você pedra, o robo tesoura.A verdadeira vitória é os amigos que fazemos pelo caminho\n",
            "\n",
            "Escolha: Pedra, Papel ou Tesoura ou sair para finalizar o jogo: tesoura\n",
            "Você tesoura, o robo pedra.o robô previu seu movimento e te derrotou\n",
            "\n",
            "Escolha: Pedra, Papel ou Tesoura ou sair para finalizar o jogo: sair\n",
            "Jogo finalizado.\n"
          ]
        }
      ],
      "source": [
        "import random\n",
        "\n",
        "def ganhador(voce, robo):\n",
        "    if voce == robo:\n",
        "        return \"Se nunca celebrou um empate como tendo sido uma grande vitória, você nunca passou por um desafio de verdade.\"\n",
        "    elif voce == \"pedra\":\n",
        "        if robo == \"tesoura\":\n",
        "            return \"A verdadeira vitória é os amigos que fazemos pelo caminho\"\n",
        "        else:\n",
        "            return \"o robô previu seu movimento e te derrotou\"\n",
        "    elif voce == \"papel\":\n",
        "        if robo == \"pedra\":\n",
        "            return \"A verdadeira vitória é os amigos que fazemos pelo caminho\"\n",
        "        else:\n",
        "            return \"o robô previu seu movimento e te derrotou\"\n",
        "    elif voce == \"tesoura\":\n",
        "        if robo == \"papel\":\n",
        "            return \"A verdadeira vitória é os amigos que fazemos pelo caminho\"\n",
        "        else:\n",
        "            return \"o robô previu seu movimento e te derrotou\"\n",
        "\n",
        "escolha = [\"pedra\", \"papel\", \"tesoura\"]\n",
        "\n",
        "while True:\n",
        "    try:\n",
        "        voce = input(\"Escolha: Pedra, Papel ou Tesoura ou sair para finalizar o jogo: \").lower()\n",
        "\n",
        "        if voce == 'sair':\n",
        "            print(\"Jogo finalizado.\")\n",
        "            break\n",
        "\n",
        "        if voce not in escolha:\n",
        "            print(\"Escolha inválida.Escolha uma das opções acima\\n\")\n",
        "            continue\n",
        "\n",
        "        robo = random.choice(escolha)\n",
        "        resultado = ganhador(voce, robo)\n",
        "        print(f\"Você {voce}, o robo {robo}.{resultado}\\n\")\n",
        "\n",
        "    except Exception as e:\n",
        "        print(f\"Ocorreu um erro inesperado: {str(e)}\\n\")"
      ]
    },
    {
      "cell_type": "code",
      "source": [],
      "metadata": {
        "id": "RF3kWK3x-3CC"
      },
      "execution_count": null,
      "outputs": []
    }
  ]
}