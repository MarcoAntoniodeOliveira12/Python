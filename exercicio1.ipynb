{
  "nbformat": 4,
  "nbformat_minor": 0,
  "metadata": {
    "colab": {
      "provenance": [],
      "authorship_tag": "ABX9TyOc+yUWP/ZcxChtMsUhgSBi",
      "include_colab_link": true
    },
    "kernelspec": {
      "name": "python3",
      "display_name": "Python 3"
    },
    "language_info": {
      "name": "python"
    }
  },
  "cells": [
    {
      "cell_type": "markdown",
      "metadata": {
        "id": "view-in-github",
        "colab_type": "text"
      },
      "source": [
        "<a href=\"https://colab.research.google.com/github/MarcoAntoniodeOliveira12/Python/blob/main/exercicio1.ipynb\" target=\"_parent\"><img src=\"https://colab.research.google.com/assets/colab-badge.svg\" alt=\"Open In Colab\"/></a>"
      ]
    },
    {
      "cell_type": "markdown",
      "source": [
        "Faça uma aplicação PYTHON que;\n",
        "Contenha laços de repetição,\n",
        "Estrutura condicional,\n",
        "Função,\n",
        "Tratamento de exceção."
      ],
      "metadata": {
        "id": "a4XJbF5R1O0z"
      }
    },
    {
      "cell_type": "code",
      "execution_count": 18,
      "metadata": {
        "colab": {
          "base_uri": "https://localhost:8080/"
        },
        "id": "Lmy5tzuS0n8w",
        "outputId": "b27b0fb2-a6df-4a3c-c1f0-6439a1ec0472"
      },
      "outputs": [
        {
          "output_type": "stream",
          "name": "stdout",
          "text": [
            "Escolha: Pedra, Papel ou Tesoura ou sair para finalizar o jogo: sair\n",
            "Jogo finalizado.\n"
          ]
        }
      ],
      "source": [
        "import random\n",
        "\n",
        "def ganhador(voce, robo):\n",
        "    if voce == robo:\n",
        "        return \"Se nunca celebrou um empate como tendo sido uma grande vitória, você nunca passou por um desafio de verdade.\"\n",
        "    elif voce == \"pedra\":\n",
        "        if robo == \"tesoura\":\n",
        "            return \"A verdadeira vitória é os amigos que fazemos pelo caminho\"\n",
        "        else:\n",
        "            return \"o robô previu seu movimento e te derrotou\"\n",
        "    elif voce == \"papel\":\n",
        "        if robo == \"pedra\":\n",
        "            return \"A verdadeira vitória é os amigos que fazemos pelo caminho\"\n",
        "        else:\n",
        "            return \"o robô previu seu movimento e te derrotou\"\n",
        "    elif voce == \"tesoura\":\n",
        "        if robo == \"papel\":\n",
        "            return \"A verdadeira vitória é os amigos que fazemos pelo caminho\"\n",
        "        else:\n",
        "            return \"o robô previu seu movimento e te derrotou\"\n",
        "\n",
        "escolha = [\"pedra\", \"papel\", \"tesoura\"]\n",
        "\n",
        "while True:\n",
        "    try:\n",
        "        voce = input(\"Escolha: Pedra, Papel ou Tesoura ou sair para finalizar o jogo: \").lower()\n",
        "\n",
        "        if voce == 'sair':\n",
        "            print(\"Jogo finalizado.\")\n",
        "            break\n",
        "\n",
        "        if voce not in escolha:\n",
        "            print(\"Escolha inválida.Escolha uma das opções acima\\n\")\n",
        "            continue\n",
        "\n",
        "        robo = random.choice(escolha)\n",
        "        resultado = ganhador(voce, robo)\n",
        "        print(f\"Você {voce}, o robo {robo}.{resultado}\\n\")\n",
        "\n",
        "    except Exception as e:\n",
        "        print(f\"Ocorreu um erro inesperado: {str(e)}\\n\")"
      ]
    },
    {
      "cell_type": "code",
      "source": [],
      "metadata": {
        "id": "RF3kWK3x-3CC"
      },
      "execution_count": null,
      "outputs": []
    }
  ]
}